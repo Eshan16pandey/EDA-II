{
  "cells": [
    {
      "cell_type": "markdown",
      "metadata": {
        "id": "view-in-github",
        "colab_type": "text"
      },
      "source": [
        "<a href=\"https://colab.research.google.com/github/Eshan16pandey/EDA-II-and-Support-Vector-Machine/blob/main/Supportvectormachine.ipynb\" target=\"_parent\"><img src=\"https://colab.research.google.com/assets/colab-badge.svg\" alt=\"Open In Colab\"/></a>"
      ]
    },
    {
      "cell_type": "code",
      "execution_count": null,
      "metadata": {
        "id": "KSY2QOa4-FNA"
      },
      "outputs": [],
      "source": [
        "# import file from drive\n",
        "\n",
        "from google.colab import drive\n",
        "drive.mount('/content/drive')\n",
        "\n",
        "\n"
      ]
    },
    {
      "cell_type": "code",
      "execution_count": null,
      "metadata": {
        "id": "f7AaA7v2-S6b"
      },
      "outputs": [],
      "source": [
        "import pandas as pd\n",
        "\n",
        "df = pd.read_csv('/content/drive/MyDrive/mushroom.csv')"
      ]
    },
    {
      "cell_type": "code",
      "execution_count": null,
      "metadata": {
        "id": "_v5rvTe2-gJu"
      },
      "outputs": [],
      "source": [
        "df"
      ]
    },
    {
      "cell_type": "code",
      "execution_count": null,
      "metadata": {
        "id": "SahD-lnw-g4P"
      },
      "outputs": [],
      "source": [
        "\n",
        "\n",
        "df.shape\n"
      ]
    },
    {
      "cell_type": "code",
      "execution_count": null,
      "metadata": {
        "id": "wuTqjD-e-laA"
      },
      "outputs": [],
      "source": [
        "#checking  the name of the columns\n",
        "\n",
        "print(df.columns.tolist())\n"
      ]
    },
    {
      "cell_type": "code",
      "execution_count": null,
      "metadata": {
        "id": "_oyaBDx7_hX2"
      },
      "outputs": [],
      "source": [
        "#checking the data type of all the columns\n",
        "\n",
        "df.dtypes\n"
      ]
    },
    {
      "cell_type": "code",
      "execution_count": null,
      "metadata": {
        "id": "IKYTlij0AMDh"
      },
      "outputs": [],
      "source": [
        "df['class'].value_counts()\n"
      ]
    },
    {
      "cell_type": "code",
      "execution_count": null,
      "metadata": {
        "id": "pmE6lnlmCDdk"
      },
      "outputs": [],
      "source": [
        "# checking value counts of all the columns\n",
        "\n",
        "for column in df.columns:\n",
        "    print(f\"Value counts for column '{column}':\")\n",
        "    print(df[column].value_counts())\n",
        "    print(\"\")\n"
      ]
    },
    {
      "cell_type": "code",
      "execution_count": null,
      "metadata": {
        "id": "yUaYyQYGCJpS"
      },
      "outputs": [],
      "source": [
        "df.head()"
      ]
    },
    {
      "cell_type": "code",
      "execution_count": null,
      "metadata": {
        "id": "RTRj3WuQEkR9"
      },
      "outputs": [],
      "source": [
        "df.describe().transpose()"
      ]
    },
    {
      "cell_type": "code",
      "execution_count": null,
      "metadata": {
        "id": "CZPOWYPJErht"
      },
      "outputs": [],
      "source": [
        "# Applying Label Encoding\n",
        "\n",
        "from sklearn.preprocessing import LabelEncoder\n",
        "\n",
        "\n",
        "df = df.apply(LabelEncoder().fit_transform)"
      ]
    },
    {
      "cell_type": "code",
      "execution_count": null,
      "metadata": {
        "id": "cTKgsTtwFCVa"
      },
      "outputs": [],
      "source": [
        "df.head()"
      ]
    },
    {
      "cell_type": "markdown",
      "source": [
        "\n",
        "The columns that are not useful and should be removed are:\n",
        "\n",
        "* veil-type\n",
        "* veil-color\n",
        "* ring-number\n",
        "* ring-type\n",
        "* spore-print-color\n",
        "* population\n",
        "* habitat"
      ],
      "metadata": {
        "id": "l099XM2f9Wcy"
      }
    },
    {
      "cell_type": "code",
      "source": [
        "# Removing Columns which could complicate our model\n",
        "\n",
        "df.drop(columns=['veil_type', 'veil_color', 'ring_number', 'ring_type', 'spore_print_color', 'population', 'habitat'], inplace=True)\n",
        "df.head()\n"
      ],
      "metadata": {
        "id": "ETk9hGv59YQN"
      },
      "execution_count": null,
      "outputs": []
    },
    {
      "cell_type": "code",
      "execution_count": null,
      "metadata": {
        "id": "rw8d5mYPFFQC"
      },
      "outputs": [],
      "source": [
        "X = df.iloc[:,1:]\n",
        "y = df.iloc[:, 0]"
      ]
    },
    {
      "cell_type": "code",
      "source": [
        "# Now spiliting the data in Test and Train\n",
        "\n",
        "from sklearn.model_selection import train_test_split\n",
        "\n",
        "X_train, X_test, y_train, y_test = train_test_split(X, y, test_size=0.3, random_state=42)\n",
        "\n",
        "print(\"X_train shape:\", X_train.shape)\n",
        "print(\"y_train shape:\", y_train.shape)\n",
        "print(\"X_test shape:\", X_test.shape)\n",
        "print(\"y_test shape:\", y_test.shape)\n"
      ],
      "metadata": {
        "id": "kqGrs5wb8_FS"
      },
      "execution_count": null,
      "outputs": []
    },
    {
      "cell_type": "code",
      "source": [
        "# Standardizing the features\n",
        "\n",
        "from sklearn.preprocessing import StandardScaler\n",
        "\n",
        "scaler = StandardScaler()\n",
        "scaler.fit(X_train)\n",
        "\n",
        "X_train = scaler.transform(X_train)\n",
        "X_test = scaler.transform(X_test)\n"
      ],
      "metadata": {
        "id": "9wCotcIM-key"
      },
      "execution_count": null,
      "outputs": []
    },
    {
      "cell_type": "code",
      "source": [
        "# Importing the svm and fitting the data into it\n",
        "\n",
        "from sklearn.svm import SVC\n",
        "\n",
        "# Create an instance of the SVM classifier\n",
        "svm_classifier = SVC(kernel='linear')\n",
        "\n",
        "# Fit the classifier to the training data\n",
        "svm_classifier.fit(X_train, y_train)\n"
      ],
      "metadata": {
        "id": "daatSgOB-_sd"
      },
      "execution_count": null,
      "outputs": []
    },
    {
      "cell_type": "code",
      "source": [
        "#Fit the test data and predict the labels\n",
        "\n",
        "# Predict the labels for the test data\n",
        "y_pred = svm_classifier.predict(X_test)\n",
        "\n",
        "# Print the predicted labels\n",
        "print(y_pred)\n"
      ],
      "metadata": {
        "id": "xsZ0WmIp_MB6"
      },
      "execution_count": null,
      "outputs": []
    },
    {
      "cell_type": "code",
      "source": [
        "# Comparing predicted and actual labels\n",
        "\n",
        "from sklearn.metrics import confusion_matrix, accuracy_score, classification_report\n",
        "\n",
        "# Compute the confusion matrix\n",
        "cm = confusion_matrix(y_test, y_pred)\n",
        "\n",
        "# Print the confusion matrix\n",
        "print(cm)\n",
        "\n",
        "# Compute the accuracy score\n",
        "accuracy = accuracy_score(y_test, y_pred)\n",
        "\n",
        "# Print the accuracy score\n",
        "print(f\"Accuracy: {accuracy:.2f}\")\n",
        "\n",
        "# Compute the classification report\n",
        "report = classification_report(y_test, y_pred)\n",
        "\n",
        "# Print the classification report\n",
        "print(report)\n"
      ],
      "metadata": {
        "id": "AW5nlFxl_YgV"
      },
      "execution_count": null,
      "outputs": []
    },
    {
      "cell_type": "markdown",
      "source": [
        "\n",
        "The result above suggests that the SVM classifier is able to accurately classify the mushroom data with an accuracy of 1.0. This means that the classifier is able to correctly identify all of the mushrooms in the test set.\n",
        "\n",
        "\n",
        "The confusion matrix shows that the classifier did not make any misclassifications. This means that the classifier was able to correctly identify all of the edible and poisonous mushrooms in the test set.\n",
        "\n",
        "The classification report shows that the classifier has a precision and recall of 1.0 for both edible and poisonous mushrooms. This means that the classifier is able to correctly identify all of the mushrooms in the test set, regardless of whether they are edible or poisonous.\n",
        "\n",
        "Therefore, the results suggest that the SVM classifier is a very effective tool for classifying mushroom data."
      ],
      "metadata": {
        "id": "opR0vP6uAen8"
      }
    },
    {
      "cell_type": "code",
      "source": [
        "#fit the linear model and check the cross validaation\n",
        "\n",
        "from sklearn.model_selection import cross_val_score\n",
        "\n",
        "# Create an instance of the Linear Regression model\n",
        "linear_model = SVC(kernel='linear')\n",
        "\n",
        "# Fit the model to the training data\n",
        "linear_model.fit(X_train, y_train)\n",
        "\n",
        "# Perform cross-validation with 5 folds\n",
        "scores = cross_val_score(linear_model, X, y, cv=5)\n",
        "\n",
        "# Print the cross-validation scores\n",
        "print(scores)\n",
        "\n",
        "# Print the average cross-validation score\n",
        "print(f\"Average cross-validation score: {scores.mean():.2f}\")\n"
      ],
      "metadata": {
        "id": "x-B2ptHZAupr"
      },
      "execution_count": null,
      "outputs": []
    },
    {
      "cell_type": "code",
      "source": [
        "# Visualizing classification results on the testing data.\n",
        "\n",
        "import matplotlib.pyplot as plt\n",
        "import seaborn as sns\n",
        "from sklearn.metrics import confusion_matrix\n",
        "\n",
        "# Get predictions for the test data\n",
        "y_pred = svm_classifier.predict(X_test)\n",
        "\n",
        "# Create a confusion matrix\n",
        "cm = confusion_matrix(y_test, y_pred)\n",
        "\n",
        "# Convert confusion matrix to DataFrame for better visualization\n",
        "cm_df = pd.DataFrame(cm, index=range(len(cm)), columns=range(len(cm)))\n",
        "\n",
        "# Visualize the confusion matrix with optimizations\n",
        "plt.figure(figsize=(10, 7))  # Increase figure size for better readability\n",
        "sns.heatmap(cm_df, annot=True, cmap=\"Blues\", fmt=\"d\", cbar=False, linewidths=.5, linecolor='black')\n",
        "plt.xlabel(\"Predicted Label\")\n",
        "plt.ylabel(\"True Label\")\n",
        "plt.title(\"Confusion Matrix for SVM Classifier\")\n",
        "plt.show()\n",
        "\n",
        "\n",
        "\n",
        "\n",
        "\n"
      ],
      "metadata": {
        "id": "_52jHOKHJ06T"
      },
      "execution_count": null,
      "outputs": []
    },
    {
      "cell_type": "markdown",
      "source": [
        "The average cross-validation score of 1.0 suggests that the linear SVM classifier is a very effective model for classifying the mushroom data. This means that the classifier is able to generalize well to new data and is not overfitting the training data.\n",
        "\n",
        "The cross-validation scores are all 1.0, which means that the classifier was able to correctly classify all of the mushrooms in each of the 5 folds. This suggests that the classifier is very robust and is not sensitive to the specific choice of training and validation data.\n",
        "\n",
        "Hence, the average cross-validation score of 1.0 suggests that the linear SVM classifier is a very promising model for classifying mushroom data."
      ],
      "metadata": {
        "id": "WdpNpo1bCFOo"
      }
    },
    {
      "cell_type": "code",
      "source": [
        "# Now experimenting with the Kernel\n",
        "\n",
        "# Create an instance of the SVM classifier with a linear kernel\n",
        "svm_classifier = SVC(kernel='linear')\n",
        "\n",
        "# Fit the classifier to the training data\n",
        "svm_classifier.fit(X_train, y_train)\n",
        "\n",
        "# Predict the labels for the test data\n",
        "y_pred = svm_classifier.predict(X_test)\n",
        "\n",
        "# Compute the confusion matrix\n",
        "cm = confusion_matrix(y_test, y_pred)\n",
        "\n",
        "# Print the confusion matrix\n",
        "print(cm)\n",
        "\n",
        "# Compute the accuracy score\n",
        "accuracy = accuracy_score(y_test, y_pred)\n",
        "\n",
        "# Print the accuracy score\n",
        "print(f\"Accuracy: {accuracy:.2f}\")\n",
        "\n",
        "# Compute the classification report\n",
        "report = classification_report(y_test, y_pred)\n",
        "\n",
        "# Print the classification report\n",
        "print(report)\n"
      ],
      "metadata": {
        "id": "yrIFgueiCHyV"
      },
      "execution_count": null,
      "outputs": []
    },
    {
      "cell_type": "markdown",
      "source": [
        "\n",
        "The results of using a linear kernel for the SVM classifier suggest that the data is linearly separable. This means that there exists a hyperplane in the feature space that can perfectly separate the two classes of mushrooms (edible and poisonous).\n",
        "\n",
        "The confusion matrix shows that the classifier did not make any misclassifications. This means that the classifier was able to correctly identify all of the edible and poisonous mushrooms in the test set.\n",
        "\n",
        "The classification report shows that the classifier has a precision and recall of 1.0 for both edible and poisonous mushrooms. This means that the classifier is able to correctly identify all of the mushrooms in the test set, regardless of whether they are edible or poisonous.\n",
        "\n",
        "Therefore, the results suggest that the linear SVM classifier is a very effective tool for classifying mushroom data.\n",
        "\n",
        "The average cross-validation score of 1.0 suggests that the linear SVM classifier is a very robust model and is not overfitting the training data.\n",
        "\n",
        "Hence, the results suggest that the linear SVM classifier is a very promising model for classifying mushroom data."
      ],
      "metadata": {
        "id": "a7S6pybmC3ov"
      }
    },
    {
      "cell_type": "code",
      "source": [
        "# SVM Performance with Different Kernels:**\n",
        "\n",
        "# Create instances of the SVM classifier with different kernels\n",
        "svm_linear = SVC(kernel='linear')\n",
        "svm_poly = SVC(kernel='poly', degree=3)\n",
        "svm_rbf = SVC(kernel='rbf')\n",
        "\n",
        "# Fit the classifiers to the training data\n",
        "svm_linear.fit(X_train, y_train)\n",
        "svm_poly.fit(X_train, y_train)\n",
        "svm_rbf.fit(X_train, y_train)\n",
        "\n",
        "# Predict the labels for the test data\n",
        "y_pred_linear = svm_linear.predict(X_test)\n",
        "y_pred_poly = svm_poly.predict(X_test)\n",
        "y_pred_rbf = svm_rbf.predict(X_test)\n",
        "\n",
        "# Compute the accuracy scores\n",
        "accuracy_linear = accuracy_score(y_test, y_pred_linear)\n",
        "accuracy_poly = accuracy_score(y_test, y_pred_poly)\n",
        "accuracy_rbf = accuracy_score(y_test, y_pred_rbf)\n",
        "\n",
        "# Print the accuracy scores\n",
        "print(f\"Linear kernel accuracy: {accuracy_linear:.2f}\")\n",
        "print(f\"Polynomial kernel accuracy: {accuracy_poly:.2f}\")\n",
        "print(f\"RBF kernel accuracy: {accuracy_rbf:.2f}\")\n",
        "\n"
      ],
      "metadata": {
        "id": "dneuIxSTDNLE"
      },
      "execution_count": null,
      "outputs": []
    },
    {
      "cell_type": "markdown",
      "source": [
        "#The results suggest that the linear SVM classifier with a linear kernel is the best model for classifying the mushroom data."
      ],
      "metadata": {
        "id": "Kroer6pvEnYi"
      }
    },
    {
      "cell_type": "markdown",
      "source": [
        "SVMs are powerful tools for various real-world classification tasks due to their strengths. Some practical applications include:\n",
        "\n",
        "1)Image Classification: SVMs are effective in classifying images into categories, leveraging their ability to handle high-dimensional pixel data.\n",
        "\n",
        "2) Text Classification: In tasks like spam detection and sentiment analysis, SVMs can handle the high-dimensional feature space created by text data.\n",
        "Spam Detection: SVMs can classify emails as spam or not spam by analyzing the text and metadata of emails.\n",
        "\n",
        "3) Fraud Detection: SVMs can detect fraudulent activities in financial transactions by identifying patterns and anomalies in the data.\n",
        "\n",
        "4) Medical Diagnosis: SVMs can assist in diagnosing diseases by analyzing medical records and imaging data, providing robust classification in complex, high-dimensional datasets.\n",
        "\n",
        "In Conclusion:\n",
        "SVMs are a versatile and powerful classifier suitable for various real-world tasks, particularly when dealing with high-dimensional and complex data. Despite their sensitivity to kernel and hyperparameter choices and the potential computational expense, their robustness to noise and ability to handle high-dimensional data make them a valuable tool in many applications.\n",
        "\n",
        "This balanced understanding will help in effectively utilizing SVMs for your classification tasks while being mindful of their limitations.\n",
        "\n",
        "\n",
        "\n",
        "\n",
        "\n",
        "\n"
      ],
      "metadata": {
        "id": "LsqzIVQ6FFuO"
      }
    },
    {
      "cell_type": "code",
      "source": [
        "\n"
      ],
      "metadata": {
        "id": "NizzSswzFFYi"
      },
      "execution_count": null,
      "outputs": []
    },
    {
      "cell_type": "code",
      "source": [],
      "metadata": {
        "id": "3CG0GLj7OfHz"
      },
      "execution_count": null,
      "outputs": []
    }
  ],
  "metadata": {
    "colab": {
      "provenance": [],
      "authorship_tag": "ABX9TyOdd3fDVMjp6JifqwaJ5YbY",
      "include_colab_link": true
    },
    "kernelspec": {
      "display_name": "Python 3",
      "name": "python3"
    },
    "language_info": {
      "name": "python"
    }
  },
  "nbformat": 4,
  "nbformat_minor": 0
}